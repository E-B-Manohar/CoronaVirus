{
 "cells": [
  {
   "cell_type": "code",
   "execution_count": 1,
   "metadata": {},
   "outputs": [],
   "source": [
    "import pandas as pd\n",
    "import requests\n",
    "from datetime import datetime\n",
    "import bs4"
   ]
  },
  {
   "cell_type": "code",
   "execution_count": 2,
   "metadata": {},
   "outputs": [
    {
     "name": "stdout",
     "output_type": "stream",
     "text": [
      "2020-04-08 20:31:04\n"
     ]
    }
   ],
   "source": [
    "print(datetime.now().strftime('%Y-%m-%d %H:%M:%S'))"
   ]
  },
  {
   "cell_type": "code",
   "execution_count": 3,
   "metadata": {},
   "outputs": [],
   "source": [
    "# get url (published from google sheets, cannot download, only html)\n",
    "url = r'https://docs.google.com/spreadsheets/d/e/2PACX-1vSc_2y5N0I67wDU38DjDh35IZSIS30rQf7_NYZhtYYGU1jJYT6_kDx4YpF-qw0LSlGsBYP8pqM_a1Pd/pubhtml'"
   ]
  },
  {
   "cell_type": "code",
   "execution_count": 4,
   "metadata": {},
   "outputs": [
    {
     "name": "stdout",
     "output_type": "stream",
     "text": [
      "14956221\n"
     ]
    }
   ],
   "source": [
    "# reques read the url and put as text\n",
    "rtext = requests.get(url).text\n",
    "print(len(rtext)) #13.9 Million Char"
   ]
  },
  {
   "cell_type": "code",
   "execution_count": 5,
   "metadata": {},
   "outputs": [
    {
     "name": "stderr",
     "output_type": "stream",
     "text": [
      "C:\\Anaconda3\\lib\\site-packages\\bs4\\__init__.py:181: UserWarning: No parser was explicitly specified, so I'm using the best available HTML parser for this system (\"lxml\"). This usually isn't a problem, but if you run this code on another system, or in a different virtual environment, it may use a different parser and behave differently.\n",
      "\n",
      "The code that caused this warning is on line 193 of the file C:\\Anaconda3\\lib\\runpy.py. To get rid of this warning, change code that looks like this:\n",
      "\n",
      " BeautifulSoup(YOUR_MARKUP})\n",
      "\n",
      "to this:\n",
      "\n",
      " BeautifulSoup(YOUR_MARKUP, \"lxml\")\n",
      "\n",
      "  markup_type=markup_type))\n"
     ]
    }
   ],
   "source": [
    "# beautiful soup to identify the number tables\n",
    "# this is to speed up read_html, otherwise read_html will take 15 mins for 13.9 Million characters to parse\n",
    "# now it takes < 10 seconds\n",
    "\n",
    "bs = bs4.BeautifulSoup(rtext)\n",
    "tables = bs.findAll(\"table\") "
   ]
  },
  {
   "cell_type": "code",
   "execution_count": 6,
   "metadata": {},
   "outputs": [],
   "source": [
    "# first table is what we want, help to find the table.\n",
    "\n",
    "t0 = tables[0]"
   ]
  },
  {
   "cell_type": "code",
   "execution_count": 7,
   "metadata": {},
   "outputs": [
    {
     "data": {
      "text/plain": [
       "(6102, 27)"
      ]
     },
     "execution_count": 7,
     "metadata": {},
     "output_type": "execute_result"
    }
   ],
   "source": [
    "# read_html returns a list of dataframes even for 1 table.\n",
    "list_df = pd.read_html(str(t0))\n",
    "list_df[0].shape"
   ]
  },
  {
   "cell_type": "code",
   "execution_count": 8,
   "metadata": {},
   "outputs": [],
   "source": [
    "# get dataframe and process\n",
    "dfindia = list_df[0]"
   ]
  },
  {
   "cell_type": "code",
   "execution_count": 9,
   "metadata": {},
   "outputs": [],
   "source": [
    "dfindia.columns = dfindia.iloc[0]"
   ]
  },
  {
   "cell_type": "code",
   "execution_count": 10,
   "metadata": {},
   "outputs": [],
   "source": [
    "dfindia = dfindia.drop([0,1])"
   ]
  },
  {
   "cell_type": "code",
   "execution_count": 11,
   "metadata": {},
   "outputs": [],
   "source": [
    "dfindia = dfindia.drop(1, axis=1)"
   ]
  },
  {
   "cell_type": "code",
   "execution_count": 12,
   "metadata": {},
   "outputs": [
    {
     "data": {
      "text/html": [
       "<div>\n",
       "<style scoped>\n",
       "    .dataframe tbody tr th:only-of-type {\n",
       "        vertical-align: middle;\n",
       "    }\n",
       "\n",
       "    .dataframe tbody tr th {\n",
       "        vertical-align: top;\n",
       "    }\n",
       "\n",
       "    .dataframe thead th {\n",
       "        text-align: right;\n",
       "    }\n",
       "</style>\n",
       "<table border=\"1\" class=\"dataframe\">\n",
       "  <thead>\n",
       "    <tr style=\"text-align: right;\">\n",
       "      <th></th>\n",
       "      <th>Patient Number</th>\n",
       "      <th>State Patient Number</th>\n",
       "      <th>Date Announced</th>\n",
       "      <th>Age Bracket</th>\n",
       "      <th>Gender</th>\n",
       "      <th>Detected City</th>\n",
       "      <th>Detected District</th>\n",
       "      <th>Detected State</th>\n",
       "      <th>State code</th>\n",
       "      <th>Current Status</th>\n",
       "      <th>...</th>\n",
       "      <th>Source_2</th>\n",
       "      <th>Source_3</th>\n",
       "      <th>Backup Notes</th>\n",
       "      <th>nan</th>\n",
       "      <th>nan</th>\n",
       "      <th>nan</th>\n",
       "      <th>nan</th>\n",
       "      <th>nan</th>\n",
       "      <th>nan</th>\n",
       "      <th>nan</th>\n",
       "    </tr>\n",
       "  </thead>\n",
       "  <tbody>\n",
       "    <tr>\n",
       "      <th>2</th>\n",
       "      <td>1</td>\n",
       "      <td>KL-TS-P1</td>\n",
       "      <td>30/01/2020</td>\n",
       "      <td>20</td>\n",
       "      <td>F</td>\n",
       "      <td>Thrissur</td>\n",
       "      <td>Thrissur</td>\n",
       "      <td>Kerala</td>\n",
       "      <td>KL</td>\n",
       "      <td>Recovered</td>\n",
       "      <td>...</td>\n",
       "      <td>https://weather.com/en-IN/india/news/news/2020...</td>\n",
       "      <td>Student from Wuhan</td>\n",
       "      <td>NaN</td>\n",
       "      <td>NaN</td>\n",
       "      <td>NaN</td>\n",
       "      <td>NaN</td>\n",
       "      <td>NaN</td>\n",
       "      <td>NaN</td>\n",
       "      <td>NaN</td>\n",
       "      <td>NaN</td>\n",
       "    </tr>\n",
       "    <tr>\n",
       "      <th>3</th>\n",
       "      <td>2</td>\n",
       "      <td>KL-AL-P1</td>\n",
       "      <td>02/02/2020</td>\n",
       "      <td>NaN</td>\n",
       "      <td>NaN</td>\n",
       "      <td>Alappuzha</td>\n",
       "      <td>Alappuzha</td>\n",
       "      <td>Kerala</td>\n",
       "      <td>KL</td>\n",
       "      <td>Recovered</td>\n",
       "      <td>...</td>\n",
       "      <td>https://weather.com/en-IN/india/news/news/2020...</td>\n",
       "      <td>NaN</td>\n",
       "      <td>Student from Wuhan</td>\n",
       "      <td>NaN</td>\n",
       "      <td>NaN</td>\n",
       "      <td>NaN</td>\n",
       "      <td>NaN</td>\n",
       "      <td>NaN</td>\n",
       "      <td>NaN</td>\n",
       "      <td>NaN</td>\n",
       "    </tr>\n",
       "    <tr>\n",
       "      <th>4</th>\n",
       "      <td>3</td>\n",
       "      <td>KL-KS-P1</td>\n",
       "      <td>03/02/2020</td>\n",
       "      <td>NaN</td>\n",
       "      <td>NaN</td>\n",
       "      <td>Kasaragod</td>\n",
       "      <td>Kasaragod</td>\n",
       "      <td>Kerala</td>\n",
       "      <td>KL</td>\n",
       "      <td>Recovered</td>\n",
       "      <td>...</td>\n",
       "      <td>https://twitter.com/ANI/status/122422148580539...</td>\n",
       "      <td>https://weather.com/en-IN/india/news/news/2020...</td>\n",
       "      <td>Student from Wuhan</td>\n",
       "      <td>NaN</td>\n",
       "      <td>NaN</td>\n",
       "      <td>NaN</td>\n",
       "      <td>NaN</td>\n",
       "      <td>NaN</td>\n",
       "      <td>NaN</td>\n",
       "      <td>NaN</td>\n",
       "    </tr>\n",
       "    <tr>\n",
       "      <th>5</th>\n",
       "      <td>4</td>\n",
       "      <td>DL-P1</td>\n",
       "      <td>02/03/2020</td>\n",
       "      <td>45</td>\n",
       "      <td>M</td>\n",
       "      <td>East Delhi (Mayur Vihar)</td>\n",
       "      <td>East Delhi</td>\n",
       "      <td>Delhi</td>\n",
       "      <td>DL</td>\n",
       "      <td>Recovered</td>\n",
       "      <td>...</td>\n",
       "      <td>https://economictimes.indiatimes.com/news/poli...</td>\n",
       "      <td>NaN</td>\n",
       "      <td>Travel history to Italy and Austria</td>\n",
       "      <td>NaN</td>\n",
       "      <td>NaN</td>\n",
       "      <td>NaN</td>\n",
       "      <td>NaN</td>\n",
       "      <td>NaN</td>\n",
       "      <td>NaN</td>\n",
       "      <td>NaN</td>\n",
       "    </tr>\n",
       "    <tr>\n",
       "      <th>6</th>\n",
       "      <td>5</td>\n",
       "      <td>TS-P1</td>\n",
       "      <td>02/03/2020</td>\n",
       "      <td>24</td>\n",
       "      <td>M</td>\n",
       "      <td>Hyderabad</td>\n",
       "      <td>Hyderabad</td>\n",
       "      <td>Telangana</td>\n",
       "      <td>TG</td>\n",
       "      <td>Recovered</td>\n",
       "      <td>...</td>\n",
       "      <td>https://www.indiatoday.in/india/story/coronavi...</td>\n",
       "      <td>https://www.thehindu.com/news/national/coronav...</td>\n",
       "      <td>Travel history to Dubai, Singapore contact</td>\n",
       "      <td>NaN</td>\n",
       "      <td>NaN</td>\n",
       "      <td>NaN</td>\n",
       "      <td>NaN</td>\n",
       "      <td>NaN</td>\n",
       "      <td>NaN</td>\n",
       "      <td>NaN</td>\n",
       "    </tr>\n",
       "  </tbody>\n",
       "</table>\n",
       "<p>5 rows × 26 columns</p>\n",
       "</div>"
      ],
      "text/plain": [
       "0 Patient Number State Patient Number Date Announced Age Bracket Gender  \\\n",
       "2              1             KL-TS-P1     30/01/2020          20      F   \n",
       "3              2             KL-AL-P1     02/02/2020         NaN    NaN   \n",
       "4              3             KL-KS-P1     03/02/2020         NaN    NaN   \n",
       "5              4                DL-P1     02/03/2020          45      M   \n",
       "6              5                TS-P1     02/03/2020          24      M   \n",
       "\n",
       "0             Detected City Detected District Detected State State code  \\\n",
       "2                  Thrissur          Thrissur         Kerala         KL   \n",
       "3                 Alappuzha         Alappuzha         Kerala         KL   \n",
       "4                 Kasaragod         Kasaragod         Kerala         KL   \n",
       "5  East Delhi (Mayur Vihar)        East Delhi          Delhi         DL   \n",
       "6                 Hyderabad         Hyderabad      Telangana         TG   \n",
       "\n",
       "0 Current Status ...                                            Source_2  \\\n",
       "2      Recovered ...   https://weather.com/en-IN/india/news/news/2020...   \n",
       "3      Recovered ...   https://weather.com/en-IN/india/news/news/2020...   \n",
       "4      Recovered ...   https://twitter.com/ANI/status/122422148580539...   \n",
       "5      Recovered ...   https://economictimes.indiatimes.com/news/poli...   \n",
       "6      Recovered ...   https://www.indiatoday.in/india/story/coronavi...   \n",
       "\n",
       "0                                           Source_3  \\\n",
       "2                                 Student from Wuhan   \n",
       "3                                                NaN   \n",
       "4  https://weather.com/en-IN/india/news/news/2020...   \n",
       "5                                                NaN   \n",
       "6  https://www.thehindu.com/news/national/coronav...   \n",
       "\n",
       "0                                Backup Notes  NaN  NaN  NaN  NaN  NaN  NaN  \\\n",
       "2                                         NaN  NaN  NaN  NaN  NaN  NaN  NaN   \n",
       "3                          Student from Wuhan  NaN  NaN  NaN  NaN  NaN  NaN   \n",
       "4                          Student from Wuhan  NaN  NaN  NaN  NaN  NaN  NaN   \n",
       "5         Travel history to Italy and Austria  NaN  NaN  NaN  NaN  NaN  NaN   \n",
       "6  Travel history to Dubai, Singapore contact  NaN  NaN  NaN  NaN  NaN  NaN   \n",
       "\n",
       "0  NaN  \n",
       "2  NaN  \n",
       "3  NaN  \n",
       "4  NaN  \n",
       "5  NaN  \n",
       "6  NaN  \n",
       "\n",
       "[5 rows x 26 columns]"
      ]
     },
     "execution_count": 12,
     "metadata": {},
     "output_type": "execute_result"
    }
   ],
   "source": [
    "dfindia.head()"
   ]
  },
  {
   "cell_type": "code",
   "execution_count": 13,
   "metadata": {},
   "outputs": [],
   "source": [
    "dfindia = dfindia[~dfindia['Patient Number'].isna()]"
   ]
  },
  {
   "cell_type": "code",
   "execution_count": 14,
   "metadata": {},
   "outputs": [],
   "source": [
    "dfindia = dfindia[~dfindia['Date Announced'].isna()]"
   ]
  },
  {
   "cell_type": "code",
   "execution_count": 15,
   "metadata": {},
   "outputs": [
    {
     "name": "stdout",
     "output_type": "stream",
     "text": [
      "2020-04-08 20:31:55\n"
     ]
    }
   ],
   "source": [
    "print(datetime.now().strftime('%Y-%m-%d %H:%M:%S'))"
   ]
  },
  {
   "cell_type": "code",
   "execution_count": 16,
   "metadata": {},
   "outputs": [
    {
     "data": {
      "text/plain": [
       "(5749, 26)"
      ]
     },
     "execution_count": 16,
     "metadata": {},
     "output_type": "execute_result"
    }
   ],
   "source": [
    "dfindia.shape"
   ]
  },
  {
   "cell_type": "code",
   "execution_count": 17,
   "metadata": {},
   "outputs": [
    {
     "data": {
      "text/plain": [
       "(5749, 19)"
      ]
     },
     "execution_count": 17,
     "metadata": {},
     "output_type": "execute_result"
    }
   ],
   "source": [
    "dfindia.iloc[:,:19].shape"
   ]
  },
  {
   "cell_type": "code",
   "execution_count": 18,
   "metadata": {},
   "outputs": [],
   "source": [
    "pdata = dfindia.iloc[:,:19]"
   ]
  },
  {
   "cell_type": "code",
   "execution_count": 19,
   "metadata": {},
   "outputs": [
    {
     "data": {
      "text/plain": [
       "(5749, 19)"
      ]
     },
     "execution_count": 19,
     "metadata": {},
     "output_type": "execute_result"
    }
   ],
   "source": [
    "pdata.shape"
   ]
  },
  {
   "cell_type": "code",
   "execution_count": 20,
   "metadata": {},
   "outputs": [
    {
     "data": {
      "text/html": [
       "<div>\n",
       "<style scoped>\n",
       "    .dataframe tbody tr th:only-of-type {\n",
       "        vertical-align: middle;\n",
       "    }\n",
       "\n",
       "    .dataframe tbody tr th {\n",
       "        vertical-align: top;\n",
       "    }\n",
       "\n",
       "    .dataframe thead th {\n",
       "        text-align: right;\n",
       "    }\n",
       "</style>\n",
       "<table border=\"1\" class=\"dataframe\">\n",
       "  <thead>\n",
       "    <tr style=\"text-align: right;\">\n",
       "      <th></th>\n",
       "      <th>Patient Number</th>\n",
       "      <th>State Patient Number</th>\n",
       "      <th>Date Announced</th>\n",
       "      <th>Age Bracket</th>\n",
       "      <th>Gender</th>\n",
       "      <th>Detected City</th>\n",
       "      <th>Detected District</th>\n",
       "      <th>Detected State</th>\n",
       "      <th>State code</th>\n",
       "      <th>Current Status</th>\n",
       "      <th>Notes</th>\n",
       "      <th>Contracted from which Patient (Suspected)</th>\n",
       "      <th>Nationality</th>\n",
       "      <th>Type of transmission</th>\n",
       "      <th>Status Change Date</th>\n",
       "      <th>Source_1</th>\n",
       "      <th>Source_2</th>\n",
       "      <th>Source_3</th>\n",
       "      <th>Backup Notes</th>\n",
       "    </tr>\n",
       "  </thead>\n",
       "  <tbody>\n",
       "    <tr>\n",
       "      <th>2</th>\n",
       "      <td>1</td>\n",
       "      <td>KL-TS-P1</td>\n",
       "      <td>30/01/2020</td>\n",
       "      <td>20</td>\n",
       "      <td>F</td>\n",
       "      <td>Thrissur</td>\n",
       "      <td>Thrissur</td>\n",
       "      <td>Kerala</td>\n",
       "      <td>KL</td>\n",
       "      <td>Recovered</td>\n",
       "      <td>Travelled from Wuhan</td>\n",
       "      <td>NaN</td>\n",
       "      <td>India</td>\n",
       "      <td>Imported</td>\n",
       "      <td>14/02/2020</td>\n",
       "      <td>https://twitter.com/vijayanpinarayi/status/122...</td>\n",
       "      <td>https://weather.com/en-IN/india/news/news/2020...</td>\n",
       "      <td>Student from Wuhan</td>\n",
       "      <td>NaN</td>\n",
       "    </tr>\n",
       "    <tr>\n",
       "      <th>3</th>\n",
       "      <td>2</td>\n",
       "      <td>KL-AL-P1</td>\n",
       "      <td>02/02/2020</td>\n",
       "      <td>NaN</td>\n",
       "      <td>NaN</td>\n",
       "      <td>Alappuzha</td>\n",
       "      <td>Alappuzha</td>\n",
       "      <td>Kerala</td>\n",
       "      <td>KL</td>\n",
       "      <td>Recovered</td>\n",
       "      <td>Travelled from Wuhan</td>\n",
       "      <td>NaN</td>\n",
       "      <td>India</td>\n",
       "      <td>Imported</td>\n",
       "      <td>14/02/2020</td>\n",
       "      <td>https://www.indiatoday.in/india/story/kerala-r...</td>\n",
       "      <td>https://weather.com/en-IN/india/news/news/2020...</td>\n",
       "      <td>NaN</td>\n",
       "      <td>Student from Wuhan</td>\n",
       "    </tr>\n",
       "    <tr>\n",
       "      <th>4</th>\n",
       "      <td>3</td>\n",
       "      <td>KL-KS-P1</td>\n",
       "      <td>03/02/2020</td>\n",
       "      <td>NaN</td>\n",
       "      <td>NaN</td>\n",
       "      <td>Kasaragod</td>\n",
       "      <td>Kasaragod</td>\n",
       "      <td>Kerala</td>\n",
       "      <td>KL</td>\n",
       "      <td>Recovered</td>\n",
       "      <td>Travelled from Wuhan</td>\n",
       "      <td>NaN</td>\n",
       "      <td>India</td>\n",
       "      <td>Imported</td>\n",
       "      <td>14/02/2020</td>\n",
       "      <td>https://www.indiatoday.in/india/story/kerala-n...</td>\n",
       "      <td>https://twitter.com/ANI/status/122422148580539...</td>\n",
       "      <td>https://weather.com/en-IN/india/news/news/2020...</td>\n",
       "      <td>Student from Wuhan</td>\n",
       "    </tr>\n",
       "    <tr>\n",
       "      <th>5</th>\n",
       "      <td>4</td>\n",
       "      <td>DL-P1</td>\n",
       "      <td>02/03/2020</td>\n",
       "      <td>45</td>\n",
       "      <td>M</td>\n",
       "      <td>East Delhi (Mayur Vihar)</td>\n",
       "      <td>East Delhi</td>\n",
       "      <td>Delhi</td>\n",
       "      <td>DL</td>\n",
       "      <td>Recovered</td>\n",
       "      <td>Travelled from Austria, Italy</td>\n",
       "      <td>NaN</td>\n",
       "      <td>India</td>\n",
       "      <td>Imported</td>\n",
       "      <td>15/03/2020</td>\n",
       "      <td>https://www.indiatoday.in/india/story/not-a-ja...</td>\n",
       "      <td>https://economictimes.indiatimes.com/news/poli...</td>\n",
       "      <td>NaN</td>\n",
       "      <td>Travel history to Italy and Austria</td>\n",
       "    </tr>\n",
       "    <tr>\n",
       "      <th>6</th>\n",
       "      <td>5</td>\n",
       "      <td>TS-P1</td>\n",
       "      <td>02/03/2020</td>\n",
       "      <td>24</td>\n",
       "      <td>M</td>\n",
       "      <td>Hyderabad</td>\n",
       "      <td>Hyderabad</td>\n",
       "      <td>Telangana</td>\n",
       "      <td>TG</td>\n",
       "      <td>Recovered</td>\n",
       "      <td>Travelled from Dubai to Bangalore on 20th Feb,...</td>\n",
       "      <td>NaN</td>\n",
       "      <td>India</td>\n",
       "      <td>Imported</td>\n",
       "      <td>02/03/2020</td>\n",
       "      <td>https://www.deccanherald.com/national/south/qu...</td>\n",
       "      <td>https://www.indiatoday.in/india/story/coronavi...</td>\n",
       "      <td>https://www.thehindu.com/news/national/coronav...</td>\n",
       "      <td>Travel history to Dubai, Singapore contact</td>\n",
       "    </tr>\n",
       "  </tbody>\n",
       "</table>\n",
       "</div>"
      ],
      "text/plain": [
       "0 Patient Number State Patient Number Date Announced Age Bracket Gender  \\\n",
       "2              1             KL-TS-P1     30/01/2020          20      F   \n",
       "3              2             KL-AL-P1     02/02/2020         NaN    NaN   \n",
       "4              3             KL-KS-P1     03/02/2020         NaN    NaN   \n",
       "5              4                DL-P1     02/03/2020          45      M   \n",
       "6              5                TS-P1     02/03/2020          24      M   \n",
       "\n",
       "0             Detected City Detected District Detected State State code  \\\n",
       "2                  Thrissur          Thrissur         Kerala         KL   \n",
       "3                 Alappuzha         Alappuzha         Kerala         KL   \n",
       "4                 Kasaragod         Kasaragod         Kerala         KL   \n",
       "5  East Delhi (Mayur Vihar)        East Delhi          Delhi         DL   \n",
       "6                 Hyderabad         Hyderabad      Telangana         TG   \n",
       "\n",
       "0 Current Status                                              Notes  \\\n",
       "2      Recovered                               Travelled from Wuhan   \n",
       "3      Recovered                               Travelled from Wuhan   \n",
       "4      Recovered                               Travelled from Wuhan   \n",
       "5      Recovered                      Travelled from Austria, Italy   \n",
       "6      Recovered  Travelled from Dubai to Bangalore on 20th Feb,...   \n",
       "\n",
       "0 Contracted from which Patient (Suspected) Nationality Type of transmission  \\\n",
       "2                                       NaN       India             Imported   \n",
       "3                                       NaN       India             Imported   \n",
       "4                                       NaN       India             Imported   \n",
       "5                                       NaN       India             Imported   \n",
       "6                                       NaN       India             Imported   \n",
       "\n",
       "0 Status Change Date                                           Source_1  \\\n",
       "2         14/02/2020  https://twitter.com/vijayanpinarayi/status/122...   \n",
       "3         14/02/2020  https://www.indiatoday.in/india/story/kerala-r...   \n",
       "4         14/02/2020  https://www.indiatoday.in/india/story/kerala-n...   \n",
       "5         15/03/2020  https://www.indiatoday.in/india/story/not-a-ja...   \n",
       "6         02/03/2020  https://www.deccanherald.com/national/south/qu...   \n",
       "\n",
       "0                                           Source_2  \\\n",
       "2  https://weather.com/en-IN/india/news/news/2020...   \n",
       "3  https://weather.com/en-IN/india/news/news/2020...   \n",
       "4  https://twitter.com/ANI/status/122422148580539...   \n",
       "5  https://economictimes.indiatimes.com/news/poli...   \n",
       "6  https://www.indiatoday.in/india/story/coronavi...   \n",
       "\n",
       "0                                           Source_3  \\\n",
       "2                                 Student from Wuhan   \n",
       "3                                                NaN   \n",
       "4  https://weather.com/en-IN/india/news/news/2020...   \n",
       "5                                                NaN   \n",
       "6  https://www.thehindu.com/news/national/coronav...   \n",
       "\n",
       "0                                Backup Notes  \n",
       "2                                         NaN  \n",
       "3                          Student from Wuhan  \n",
       "4                          Student from Wuhan  \n",
       "5         Travel history to Italy and Austria  \n",
       "6  Travel history to Dubai, Singapore contact  "
      ]
     },
     "execution_count": 20,
     "metadata": {},
     "output_type": "execute_result"
    }
   ],
   "source": [
    "pdata.head()"
   ]
  },
  {
   "cell_type": "code",
   "execution_count": 21,
   "metadata": {},
   "outputs": [],
   "source": [
    "pdata.to_csv(\"IN_COV_Cases.csv\",index=False)"
   ]
  },
  {
   "cell_type": "code",
   "execution_count": null,
   "metadata": {},
   "outputs": [],
   "source": []
  },
  {
   "cell_type": "code",
   "execution_count": null,
   "metadata": {},
   "outputs": [],
   "source": []
  },
  {
   "cell_type": "code",
   "execution_count": null,
   "metadata": {},
   "outputs": [],
   "source": []
  },
  {
   "cell_type": "code",
   "execution_count": null,
   "metadata": {},
   "outputs": [],
   "source": []
  },
  {
   "cell_type": "code",
   "execution_count": null,
   "metadata": {},
   "outputs": [],
   "source": []
  },
  {
   "cell_type": "code",
   "execution_count": null,
   "metadata": {},
   "outputs": [],
   "source": []
  },
  {
   "cell_type": "code",
   "execution_count": null,
   "metadata": {},
   "outputs": [],
   "source": []
  },
  {
   "cell_type": "code",
   "execution_count": null,
   "metadata": {},
   "outputs": [],
   "source": []
  },
  {
   "cell_type": "code",
   "execution_count": null,
   "metadata": {},
   "outputs": [],
   "source": []
  }
 ],
 "metadata": {
  "kernelspec": {
   "display_name": "Python 3",
   "language": "python",
   "name": "python3"
  },
  "language_info": {
   "codemirror_mode": {
    "name": "ipython",
    "version": 3
   },
   "file_extension": ".py",
   "mimetype": "text/x-python",
   "name": "python",
   "nbconvert_exporter": "python",
   "pygments_lexer": "ipython3",
   "version": "3.6.5"
  }
 },
 "nbformat": 4,
 "nbformat_minor": 2
}
